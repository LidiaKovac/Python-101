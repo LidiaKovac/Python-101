{
 "cells": [
  {
   "cell_type": "markdown",
   "id": "4d6f4936",
   "metadata": {},
   "source": [
    "# Python 101\n",
    "I chose to do this 101 project in a jupiter notebook, because in the end these are just notes, so they are better visualized this way. If I will choose to do a mini Python project I will use .py! \n"
   ]
  },
  {
   "cell_type": "markdown",
   "id": "7b1c1ffd",
   "metadata": {},
   "source": [
    "## Printing and basic types"
   ]
  },
  {
   "cell_type": "code",
   "execution_count": 5,
   "id": "e21010a5",
   "metadata": {},
   "outputs": [
    {
     "name": "stdout",
     "output_type": "stream",
     "text": [
      "hello world\n",
      "LidiaLidiaLidia\n",
      "3\n",
      "I have 12 beds\n"
     ]
    }
   ],
   "source": [
    "print(\"hello world\") \n",
    "\n",
    "string = \"Lidia\"\n",
    "integer = 12\n",
    "floatnum = 3.4954876498\n",
    "print (string * 3) \n",
    "type_casting = int(floatnum)\n",
    "print (type_casting) \n",
    "print (\"I have \" + str(integer) + \" beds\")"
   ]
  },
  {
   "cell_type": "markdown",
   "id": "ada7ceb1",
   "metadata": {},
   "source": [
    "## List of reserved word\n",
    " - and\n",
    " - del\n",
    " - from\n",
    " - not\n",
    " - while\n",
    " - as \n",
    " - elif\n",
    " - global\n",
    " - or\n",
    " - with\n",
    " - assert \n",
    " - else \n",
    " - if \n",
    " - pass\n",
    " - yield \n",
    " - break\n",
    " - except\n",
    " - import \n",
    " - print\n",
    " - class \n",
    " - exec \n",
    " - in \n",
    " - raise \n",
    " - continue \n",
    " - finally \n",
    " - is \n",
    " - lambda\n",
    " - try \n",
    " - def \n",
    " - for\n",
    " - return"
   ]
  },
  {
   "cell_type": "markdown",
   "id": "b6fd88e5",
   "metadata": {},
   "source": [
    "## Functions "
   ]
  },
  {
   "cell_type": "code",
   "execution_count": null,
   "id": "5b4f116a",
   "metadata": {},
   "outputs": [],
   "source": [
    "def greet_user(name): \n",
    "    print(\"Hello \" + name)\n",
    "    # all code indendent will be included in function\n",
    "greet_user(\"Lidia\")\n",
    "def power(base, exponent):\n",
    "    return pow(base, exponent)\n",
    "power(2,3) #expected 8\n",
    "print(power(2,3))"
   ]
  },
  {
   "cell_type": "markdown",
   "id": "8215c65b",
   "metadata": {},
   "source": [
    "## Operators "
   ]
  },
  {
   "cell_type": "code",
   "execution_count": 4,
   "id": "59aeb8c6",
   "metadata": {},
   "outputs": [
    {
     "name": "stdout",
     "output_type": "stream",
     "text": [
      "True\n",
      "False\n",
      "True\n",
      "False\n"
     ]
    }
   ],
   "source": [
    "print (\"y\" in \"Python\") \n",
    "print (True and False)\n",
    "print (True or False) \n",
    "print (not True) "
   ]
  },
  {
   "cell_type": "markdown",
   "id": "16291ed1",
   "metadata": {},
   "source": [
    "## If statement "
   ]
  },
  {
   "cell_type": "code",
   "execution_count": null,
   "id": "09fe9071",
   "metadata": {},
   "outputs": [],
   "source": [
    "x = 4\n",
    "if (x < 10): \n",
    "    print (\"The number is lower than 10\")\n",
    "else: print (\"THe number is higher than 10\")\n",
    "if (x === 10) :\n",
    "    print (\"The number is 10\")\n",
    "elif (x === 3): #else if\n",
    "    print (\"The number is 3\")"
   ]
  },
  {
   "cell_type": "markdown",
   "id": "9493cbe4",
   "metadata": {},
   "source": [
    "## While loop"
   ]
  },
  {
   "cell_type": "code",
   "execution_count": 3,
   "id": "9b2e3bfc",
   "metadata": {},
   "outputs": [
    {
     "name": "stdout",
     "output_type": "stream",
     "text": [
      "0\n",
      "1\n",
      "2\n",
      "3\n",
      "4\n",
      "5\n",
      "6\n",
      "7\n",
      "8\n",
      "9\n",
      "10\n"
     ]
    }
   ],
   "source": [
    "x = 0 \n",
    "while (x <= 10):\n",
    "    print (x)\n",
    "    x += 1"
   ]
  },
  {
   "cell_type": "markdown",
   "id": "2df08d8b",
   "metadata": {},
   "source": [
    "## For loop"
   ]
  },
  {
   "cell_type": "code",
   "execution_count": 1,
   "id": "c92899ea",
   "metadata": {},
   "outputs": [
    {
     "name": "stdout",
     "output_type": "stream",
     "text": [
      "a\n",
      "p\n",
      "p\n",
      "l\n",
      "e\n",
      "apple\n",
      "watermelon\n"
     ]
    }
   ],
   "source": [
    "for char in \"apple\": \n",
    "    print (char) #prints every letter in apple\n",
    "fruit_basket = [\"apple\", \"pear\", \"watermelon\", \"peach\"]\n",
    "for fruit in fruit_basket: \n",
    "    if(\"l\" in fruit): \n",
    "        print(fruit)\n"
   ]
  },
  {
   "cell_type": "markdown",
   "id": "1788545f",
   "metadata": {},
   "source": []
  }
 ],
 "metadata": {
  "kernelspec": {
   "display_name": "Python 3",
   "language": "python",
   "name": "python3"
  },
  "language_info": {
   "codemirror_mode": {
    "name": "ipython",
    "version": 3
   },
   "file_extension": ".py",
   "mimetype": "text/x-python",
   "name": "python",
   "nbconvert_exporter": "python",
   "pygments_lexer": "ipython3",
   "version": "3.8.8"
  }
 },
 "nbformat": 4,
 "nbformat_minor": 5
}
